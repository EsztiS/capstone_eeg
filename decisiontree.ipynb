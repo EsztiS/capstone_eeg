{
 "cells": [
  {
   "cell_type": "code",
   "execution_count": 2,
   "metadata": {
    "collapsed": false,
    "scrolled": true
   },
   "outputs": [
    {
     "name": "stdout",
     "output_type": "stream",
     "text": [
      "Welcome to\n",
      "      ____              __\n",
      "     / __/__  ___ _____/ /__\n",
      "    _\\ \\/ _ \\/ _ `/ __/  '_/\n",
      "   /__ / .__/\\_,_/_/ /_/\\_\\   version 1.4.1\n",
      "      /_/\n",
      "\n",
      "Using Python version 2.7.9 (default, Dec 18 2014 16:57:52)\n",
      "SparkContext available as sc, SQLContext available as sqlContext.\n"
     ]
    }
   ],
   "source": [
    "# Configure the necessary Spark environment\n",
    "import os\n",
    "import sys\n",
    "\n",
    "# Spark home\n",
    "spark_home = os.environ.get(\"SPARK_HOME\")\n",
    "\n",
    "# If Spark V1.4.x is detected, then add ' pyspark-shell' to\n",
    "# the end of the 'PYSPARK_SUBMIT_ARGS' environment variable\n",
    "spark_release_file = spark_home + \"/RELEASE\"\n",
    "if os.path.exists(spark_release_file) and \"Spark 1.4\" in open(spark_release_file).read():\n",
    "    pyspark_submit_args = os.environ.get(\"PYSPARK_SUBMIT_ARGS\", \"\")\n",
    "    if not \"pyspark-shell\" in pyspark_submit_args: pyspark_submit_args += \" pyspark-shell\"\n",
    "    os.environ[\"PYSPARK_SUBMIT_ARGS\"] = pyspark_submit_args\n",
    "\n",
    "# Add the spark python sub-directory to the path\n",
    "sys.path.insert(0, spark_home + \"/python\")\n",
    "\n",
    "# Add the py4j to the path.\n",
    "# You may need to change the version number to match your install\n",
    "sys.path.insert(0, os.path.join(spark_home, \"python/lib/py4j-0.8.2.1-src.zip\"))\n",
    "\n",
    "# Initialize PySpark to predefine the SparkContext variable 'sc'\n",
    "execfile(os.path.join(spark_home, \"python/pyspark/shell.py\"))"
   ]
  },
  {
   "cell_type": "code",
   "execution_count": 15,
   "metadata": {
    "collapsed": false
   },
   "outputs": [
    {
     "name": "stdout",
     "output_type": "stream",
     "text": [
      "None\n"
     ]
    }
   ],
   "source": [
    "print sys.path.insert(0, \"C:\\Anaconda\\lib\\site-packages\\numpy\")\n",
    "import numpy"
   ]
  },
  {
   "cell_type": "code",
   "execution_count": 3,
   "metadata": {
    "collapsed": false
   },
   "outputs": [
    {
     "data": {
      "text/plain": [
       "<pyspark.context.SparkContext at 0x9e889e8>"
      ]
     },
     "execution_count": 3,
     "metadata": {},
     "output_type": "execute_result"
    }
   ],
   "source": [
    "sc"
   ]
  },
  {
   "cell_type": "code",
   "execution_count": 16,
   "metadata": {
    "collapsed": false
   },
   "outputs": [],
   "source": [
    "from pyspark.mllib.regression import LabeledPoint\n",
    "from pyspark.mllib.tree import DecisionTree\n",
    "from pyspark.mllib.util import MLUtils\n",
    "import pandas as pd\n"
   ]
  },
  {
   "cell_type": "code",
   "execution_count": 5,
   "metadata": {
    "collapsed": false
   },
   "outputs": [],
   "source": [
    "# Load data file\n",
    "data_tree = sc.textFile('c:\\Users\\AD\\Documents\\BCfiles\\KaggleEEG\\df_for_tree_small.csv')\n",
    "\n",
    "#pd.read_csv\n",
    "#sc.textFile"
   ]
  },
  {
   "cell_type": "code",
   "execution_count": 6,
   "metadata": {
    "collapsed": false
   },
   "outputs": [],
   "source": [
    "#Removing header of the csv.\n",
    "data_tree = data_tree.filter(lambda l: \"class_all\" not in l)\n"
   ]
  },
  {
   "cell_type": "code",
   "execution_count": 7,
   "metadata": {
    "collapsed": false
   },
   "outputs": [
    {
     "data": {
      "text/plain": [
       "[u'0,-10.83805,-9.63178,-10.99165,-10.99361',\n",
       " u'0,-9.74717,-10.22009,-10.90319,-10.60587',\n",
       " u'0,-10.88845,-10.79459,-11.20667,-11.77245',\n",
       " u'0,-9.59486,-9.85923,-10.31219,-11.23681',\n",
       " u'0,-8.62924,-10.02107,-11.18154,-10.34676']"
      ]
     },
     "execution_count": 7,
     "metadata": {},
     "output_type": "execute_result"
    }
   ],
   "source": [
    "data_tree.take(5)"
   ]
  },
  {
   "cell_type": "code",
   "execution_count": 8,
   "metadata": {
    "collapsed": false
   },
   "outputs": [],
   "source": [
    "# split -> convert to num \n",
    "def parsePoint(line):\n",
    "    line = line.split(',')\n",
    "    line = [float(x) for x in line]\n",
    "    features = line[1:]\n",
    "    target = line[0]\n",
    "    return LabeledPoint(target,features)\n",
    "    "
   ]
  },
  {
   "cell_type": "code",
   "execution_count": 9,
   "metadata": {
    "collapsed": false
   },
   "outputs": [
    {
     "name": "stdout",
     "output_type": "stream",
     "text": [
      "[0.0, -11.56247, -11.0003, -11.58689, -11.65356]\n",
      "0.0\n",
      "[-11.56247, -11.0003, -11.58689, -11.65356]\n"
     ]
    }
   ],
   "source": [
    "line = u'0,-11.56247,-11.0003,-11.58689,-11.65356'\n",
    "line = line.split(',')\n",
    "line_test = [float(x) for x in line]\n",
    "print line_test\n",
    "print line_test[0]\n",
    "print line_test[1:]"
   ]
  },
  {
   "cell_type": "code",
   "execution_count": 9,
   "metadata": {
    "collapsed": false
   },
   "outputs": [
    {
     "data": {
      "text/plain": [
       "LabeledPoint(0.0, [-10.83805,-9.63178,-10.99165,-10.99361])"
      ]
     },
     "execution_count": 9,
     "metadata": {},
     "output_type": "execute_result"
    }
   ],
   "source": [
    "modeldata = data_tree.map(parsePoint)\n",
    "modeldata.first()"
   ]
  },
  {
   "cell_type": "code",
   "execution_count": 92,
   "metadata": {
    "collapsed": false
   },
   "outputs": [],
   "source": [
    "import numpy"
   ]
  },
  {
   "cell_type": "code",
   "execution_count": 31,
   "metadata": {
    "collapsed": false
   },
   "outputs": [],
   "source": [
    "(training, test) = modeldata.randomSplit([0.6,0.4])\n",
    "#trainingData, testData = modeldata.randomSplit([0.8, 0.2])"
   ]
  },
  {
   "cell_type": "code",
   "execution_count": 37,
   "metadata": {
    "collapsed": false
   },
   "outputs": [
    {
     "data": {
      "text/plain": [
       "[LabeledPoint(0.0, [-10.83805,-9.63178,-10.99165,-10.99361]),\n",
       " LabeledPoint(0.0, [-9.74717,-10.22009,-10.90319,-10.60587]),\n",
       " LabeledPoint(0.0, [-9.59486,-9.85923,-10.31219,-11.23681]),\n",
       " LabeledPoint(0.0, [-8.62924,-10.02107,-11.18154,-10.34676]),\n",
       " LabeledPoint(0.0, [-11.88613,-11.41672,-11.70803,-11.15817])]"
      ]
     },
     "execution_count": 37,
     "metadata": {},
     "output_type": "execute_result"
    }
   ],
   "source": [
    "training.take(5)"
   ]
  },
  {
   "cell_type": "code",
   "execution_count": 50,
   "metadata": {
    "collapsed": false
   },
   "outputs": [],
   "source": [
    "#testing changing to 7 classes \n",
    "t2= training.filter(lambda x: x.label<7)"
   ]
  },
  {
   "cell_type": "code",
   "execution_count": 51,
   "metadata": {
    "collapsed": false
   },
   "outputs": [],
   "source": [
    "model = DecisionTree.trainClassifier(t2, numClasses=7, categoricalFeaturesInfo={},impurity='gini', maxDepth=5, maxBins=32)\n"
   ]
  },
  {
   "cell_type": "code",
   "execution_count": 54,
   "metadata": {
    "collapsed": false
   },
   "outputs": [
    {
     "name": "stdout",
     "output_type": "stream",
     "text": [
      "Test Error = 0.0968068930563\n",
      "Learned classification tree model:\n",
      "DecisionTreeModel classifier of depth 5 with 59 nodes\n",
      "  If (feature 0 <= -10.26922)\n",
      "   If (feature 2 <= -10.89916)\n",
      "    If (feature 3 <= -10.61495)\n",
      "     If (feature 2 <= -11.63137)\n",
      "      If (feature 2 <= -12.57792)\n",
      "       Predict: 0.0\n",
      "      Else (feature 2 > -12.57792)\n",
      "       Predict: 0.0\n",
      "     Else (feature 2 > -11.63137)\n",
      "      If (feature 2 <= -11.42089)\n",
      "       Predict: 0.0\n",
      "      Else (feature 2 > -11.42089)\n",
      "       Predict: 0.0\n",
      "    Else (feature 3 > -10.61495)\n",
      "     If (feature 3 <= -9.9352)\n",
      "      If (feature 0 <= -10.7456)\n",
      "       Predict: 0.0\n",
      "      Else (feature 0 > -10.7456)\n",
      "       Predict: 0.0\n",
      "     Else (feature 3 > -9.9352)\n",
      "      If (feature 3 <= -9.63767)\n",
      "       Predict: 0.0\n",
      "      Else (feature 3 > -9.63767)\n",
      "       Predict: 0.0\n",
      "   Else (feature 2 > -10.89916)\n",
      "    If (feature 3 <= -12.06371)\n",
      "     If (feature 2 <= -10.79069)\n",
      "      If (feature 1 <= -11.6688)\n",
      "       Predict: 4.0\n",
      "      Else (feature 1 > -11.6688)\n",
      "       Predict: 1.0\n",
      "     Else (feature 2 > -10.79069)\n",
      "      If (feature 2 <= -10.61428)\n",
      "       Predict: 0.0\n",
      "      Else (feature 2 > -10.61428)\n",
      "       Predict: 0.0\n",
      "    Else (feature 3 > -12.06371)\n",
      "     If (feature 1 <= -10.41144)\n",
      "      If (feature 1 <= -11.43622)\n",
      "       Predict: 0.0\n",
      "      Else (feature 1 > -11.43622)\n",
      "       Predict: 0.0\n",
      "     Else (feature 1 > -10.41144)\n",
      "      If (feature 3 <= -9.9352)\n",
      "       Predict: 0.0\n",
      "      Else (feature 3 > -9.9352)\n",
      "       Predict: 0.0\n",
      "  Else (feature 0 > -10.26922)\n",
      "   If (feature 0 <= -9.53845)\n",
      "    If (feature 2 <= -10.17564)\n",
      "     If (feature 2 <= -11.35569)\n",
      "      If (feature 1 <= -9.73744)\n",
      "       Predict: 0.0\n",
      "      Else (feature 1 > -9.73744)\n",
      "       Predict: 0.0\n",
      "     Else (feature 2 > -11.35569)\n",
      "      If (feature 2 <= -11.13178)\n",
      "       Predict: 0.0\n",
      "      Else (feature 2 > -11.13178)\n",
      "       Predict: 0.0\n",
      "    Else (feature 2 > -10.17564)\n",
      "     If (feature 3 <= -10.7163)\n",
      "      If (feature 1 <= -10.56943)\n",
      "       Predict: 0.0\n",
      "      Else (feature 1 > -10.56943)\n",
      "       Predict: 0.0\n",
      "     Else (feature 3 > -10.7163)\n",
      "      If (feature 1 <= -10.12618)\n",
      "       Predict: 0.0\n",
      "      Else (feature 1 > -10.12618)\n",
      "       Predict: 0.0\n",
      "   Else (feature 0 > -9.53845)\n",
      "    If (feature 2 <= -9.75356)\n",
      "     If (feature 0 <= -9.14493)\n",
      "      If (feature 3 <= -10.13061)\n",
      "       Predict: 0.0\n",
      "      Else (feature 3 > -10.13061)\n",
      "       Predict: 0.0\n",
      "     Else (feature 0 > -9.14493)\n",
      "      Predict: 0.0\n",
      "    Else (feature 2 > -9.75356)\n",
      "     If (feature 1 <= -9.8788)\n",
      "      If (feature 1 <= -10.0075)\n",
      "       Predict: 0.0\n",
      "      Else (feature 1 > -10.0075)\n",
      "       Predict: 0.0\n",
      "     Else (feature 1 > -9.8788)\n",
      "      Predict: 0.0\n",
      "\n"
     ]
    }
   ],
   "source": [
    "# Evaluate model on test instances and compute test error\n",
    "predictions = model.predict(test.map(lambda x: x.features))\n",
    "labelsAndPredictions = test.map(lambda lp: lp.label).zip(predictions)\n",
    "testErr = labelsAndPredictions.filter(lambda (v, p): v != p).count() / float(test.count())\n",
    "print('Test Error = ' + str(testErr))\n",
    "print('Learned classification tree model:')\n",
    "print(model.toDebugString())"
   ]
  },
  {
   "cell_type": "code",
   "execution_count": null,
   "metadata": {
    "collapsed": true
   },
   "outputs": [],
   "source": []
  }
 ],
 "metadata": {
  "kernelspec": {
   "display_name": "Python 2",
   "language": "python",
   "name": "python2"
  },
  "language_info": {
   "codemirror_mode": {
    "name": "ipython",
    "version": 2
   },
   "file_extension": ".py",
   "mimetype": "text/x-python",
   "name": "python",
   "nbconvert_exporter": "python",
   "pygments_lexer": "ipython2",
   "version": "2.7.9"
  }
 },
 "nbformat": 4,
 "nbformat_minor": 0
}
