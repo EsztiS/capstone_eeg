{
 "cells": [
  {
   "cell_type": "code",
   "execution_count": 1,
   "metadata": {
    "collapsed": false
   },
   "outputs": [],
   "source": [
    "# -*- coding: utf-8 -*-\n",
    "\"\"\"\n",
    "Created on Mon Jun 29 14:00:37 2015\n",
    "\n",
    "@author: alexandrebarachant\n",
    "\n",
    "Beat the benchmark with CSP and Logisitic regression.\n",
    "\n",
    "General Idea :\n",
    "\n",
    "The goal of this challenge is to detect events related to hand movements. Hand \n",
    "movements are caracterized by change in signal power in the mu (~10Hz) and beta\n",
    "(~20Hz) frequency band over the sensorimotor cortex. CSP spatial filters are\n",
    "trained to enhance signal comming from this brain area, instantaneous power is\n",
    "extracted and smoothed, and then feeded into a logisitic regression.\n",
    "\n",
    "Preprocessing :\n",
    "\n",
    "Signal are bandpass-filtered between 7 and 30 Hz to catch most of the signal of\n",
    "interest. 4 CSP spatial filters are then applied to the signal, resutlting to\n",
    "4 new time series.  In order to train CSP spatial filters, EEG are epoched \n",
    "using a window of 2 second before and after the event 'HandStart'. CSP training\n",
    "needs two classes. the epochs after Replace event are assumed to contain \n",
    "patterns corresponding to hand movement, and epochs before are assumed to \n",
    "contain resting state.\n",
    "\n",
    "Feature extraction :\n",
    "\n",
    "Preprocessing is applied, spatialy filtered signal are the rectified and \n",
    "convolved with a 0.5 second rectangular window for smoothing. Then a logarithm\n",
    "is applied. the resutl is a vector of dimention 4 for each time sample.\n",
    "\n",
    "Classification :\n",
    "\n",
    "For each of the 6 event type, a logistic regression is trained. For training \n",
    "only, features are downsampled in oder to speed up the process. Prediction are\n",
    "the probailities of the logistic regression.\n",
    "\n",
    "\"\"\"\n",
    "\n",
    "#print(__doc__)\n",
    "\n",
    "import numpy as np\n",
    "import pandas as pd\n",
    "from mne.io import RawArray\n",
    "from mne.channels import read_montage\n",
    "from mne.epochs import concatenate_epochs\n",
    "from mne import create_info, find_events, Epochs, concatenate_raws, pick_types\n",
    "from mne.decoding import CSP\n",
    "\n",
    "from sklearn.linear_model import LogisticRegression\n",
    "from sklearn import preprocessing\n",
    "from glob import glob\n",
    "\n",
    "from scipy.signal import butter, lfilter, convolve, boxcar\n",
    "from joblib import Parallel, delayed\n",
    "\n",
    "def creat_mne_raw_object(fname,read_events=True,norm=False):\n",
    "    \"\"\"Create a mne raw instance from csv file\"\"\"\n",
    "    # Read EEG file\n",
    "    data = pd.read_csv(fname)\n",
    "    \n",
    "    # get chanel names\n",
    "    ch_names = list(data.columns[1:])\n",
    "    \n",
    "    # read EEG standard montage from mne\n",
    "    montage = read_montage('standard_1005',ch_names)\n",
    "\n",
    "    ch_type = ['eeg']*len(ch_names)\n",
    "    data = 1e-6*np.array(data[ch_names]).T # From microvolts to volts\n",
    "    # this normalizes the data per series.\n",
    "    if norm:\n",
    "        min_max_scaler = preprocessing.MinMaxScaler(feature_range=(-1,1))\n",
    "        data = min_max_scaler.fit_transform(data)\n",
    "    \n",
    "    if read_events:\n",
    "        # events file\n",
    "        ev_fname = fname.replace('_data','_events')\n",
    "        # read event file\n",
    "        events = pd.read_csv(ev_fname)\n",
    "        events_names = events.columns[1:]\n",
    "        events_data = np.array(events[events_names]).T\n",
    "        \n",
    "        # define channel type, the first is EEG, the last 6 are stimulations\n",
    "        ch_type.extend(['stim']*6)\n",
    "        ch_names.extend(events_names)\n",
    "        # concatenate event file and data\n",
    "        data = np.concatenate((data,events_data))\n",
    "    \n",
    "    # create and populate MNE info structure\n",
    "    info = create_info(ch_names,sfreq=500.0, ch_types=ch_type, montage=montage)\n",
    "    info['filename'] = fname\n",
    "    \n",
    "    # create raw object \n",
    "    raw = RawArray(data,info,verbose=False)\n",
    "    \n",
    "    return raw"
   ]
  },
  {
   "cell_type": "code",
   "execution_count": 95,
   "metadata": {
    "collapsed": false
   },
   "outputs": [],
   "source": [
    "subjects = range(1,13)\n",
    "\n",
    "# design a butterworth bandpass filter \n",
    "freqs = [7, 30]\n",
    "b,a = butter(5,np.array(freqs)/250.0,btype='bandpass')\n",
    "\n",
    "# CSP parameters\n",
    "# Number of spatial filter to use\n",
    "nfilters = 4\n",
    "\n",
    "# convolution\n",
    "# window for smoothing features\n",
    "nwin = 250\n",
    "\n",
    "################################################################################\n",
    "###### CHANGE THIS FOR SMALLER AMOUNTS OF DATA. SUBSAMPLE = 1 IS ALL DATA.######\n",
    "# training subsample\n",
    "subsample = 1\n",
    "################################################################################\n",
    "# submission file\n",
    "#submission_file = 'JATED.csv'\n",
    "cols = ['HandStart','FirstDigitTouch',\n",
    "        'BothStartLoadPhase','LiftOff',\n",
    "        'Replace','BothReleased']\n",
    "\n",
    "for subject in subjects:\n",
    "    epochs_tot = []\n",
    "    y = []\n",
    "    idstr_tot = []\n",
    "    idste_tot = []\n",
    "    pred_tot = []\n",
    "    trainY_tot = []\n",
    "    trainX_tot = []\n",
    "    testX_tot = []\n",
    "\n",
    "    ################ READ DATA ################################################\n",
    "    fnames =  glob('/Users/eszti/Documents/__NYC_DSA/Dev/capstone_eeg/train/subj%d_series*_data.csv' % (subject))\n",
    "    \n",
    "    # read and concatenate all the files\n",
    "    raw = concatenate_raws([creat_mne_raw_object(fname,norm=True) for fname in fnames])\n",
    "       \n",
    "    # pick eeg signal\n",
    "    picks = pick_types(raw.info,eeg=True)\n",
    "    \n",
    "    # Filter data for alpha frequency and beta band\n",
    "    # Note that MNE implement a zero phase (filtfilt) filtering not compatible\n",
    "    # with the rule of future data.\n",
    "    # Here we use left filter compatible with this constraint. \n",
    "    ######### parallel version ########\n",
    "    # The function parallelized for speeding up the script\n",
    "    #raw._data[picks] = np.array(Parallel(n_jobs=-1)(delayed(lfilter)(b,a,raw._data[i]) for i in picks))\n",
    "    #########\n",
    "    raw._data[picks] = lfilter(b,a,raw._data[picks])\n",
    "    \n",
    "    ################ CSP Filters training #####################################\n",
    "    # get event posision corresponding to HandStart\n",
    "    events = find_events(raw,stim_channel='HandStart', verbose=False)\n",
    "    # epochs signal for 2 second after the event\n",
    "    epochs = Epochs(raw, events, {'during' : 1}, 0, 2, proj=False,\n",
    "                    picks=picks, baseline=None, preload=True,\n",
    "                    add_eeg_ref=False, verbose=False)\n",
    "    \n",
    "    epochs_tot.append(epochs)\n",
    "    y.extend([1]*len(epochs))\n",
    "    \n",
    "    # epochs signal for 2 second before the event, this correspond to the \n",
    "    # rest period.\n",
    "    epochs_rest = Epochs(raw, events, {'before' : 1}, -2, 0, proj=False,\n",
    "                    picks=picks, baseline=None, preload=True,\n",
    "                    add_eeg_ref=False, verbose=False)\n",
    "    \n",
    "    # Workaround to be able to concatenate epochs with MNE\n",
    "    epochs_rest.times = epochs.times\n",
    "    \n",
    "    y.extend([-1]*len(epochs_rest))\n",
    "    epochs_tot.append(epochs_rest)\n",
    "        \n",
    "    # Concatenate all epochs\n",
    "    epochs = concatenate_epochs(epochs_tot)\n",
    "    \n",
    "    # get data \n",
    "    X = epochs.get_data()\n",
    "    y = np.array(y)\n",
    "    \n",
    "    \n",
    "    # train CSP\n",
    "    csp = CSP(n_components=nfilters, reg='lws')\n",
    "    csp.fit(X,y)\n",
    "    \n",
    "    ################ Create Training Features #################################\n",
    "    # apply csp filters and rectify signal\n",
    "    feat = np.dot(csp.filters_[0:nfilters],raw._data[picks])**2\n",
    "    \n",
    "    # smoothing by convolution with a rectangle window    \n",
    "    ####### parallel version ###########\n",
    "    #feattr = np.array(Parallel(n_jobs=-1)(delayed(convolve)(feat[i],boxcar(nwin),'full') for i in range(nfilters)))\n",
    "    #feattr = np.log(feattr[:,0:feat.shape[1]])\n",
    "    #######\n",
    "    feattr = np.empty(feat.shape)\n",
    "    for i in range(nfilters):\n",
    "        feattr[i] = np.log(convolve(feat[i],boxcar(nwin),'full'))[0:feat.shape[1]]\n",
    " \n",
    "    # training labels\n",
    "    # they are stored in the 6 last channels of the MNE raw object\n",
    "    labels = raw._data[32:]\n",
    "    \n",
    "    ######### Lists of training data and ids to write csv ########################\n",
    "    trainY_tot.append(labels[:,::subsample].T)\n",
    "    trainX_tot.append(feattr[:,::subsample].T)\n",
    "    idstr = np.concatenate([np.array(pd.read_csv(fname)['id']) for fname in fnames])\n",
    "    idstr_tot.append(idstr[::subsample])\n",
    "    \n",
    "    ################ Create test Features #####################################\n",
    "    # read test data \n",
    "    fnames =  glob('/Users/eszti/Documents/__NYC_DSA/Dev/capstone_eeg/test/subj%d_series*_data.csv' % (subject))\n",
    "    raw = concatenate_raws([creat_mne_raw_object(fname, read_events=False,norm=True) for fname in fnames])\n",
    "    test_raw = raw\n",
    "    ####### parallel version ###########\n",
    "    #raw._data[picks] = np.array(Parallel(n_jobs=-1)(delayed(lfilter)(b,a,raw._data[i]) for i in picks))\n",
    "    #######\n",
    "    raw._data[picks] = lfilter(b,a,raw._data[picks])\n",
    "    \n",
    "    # read ids\n",
    "    idste = np.concatenate([np.array(pd.read_csv(fname)['id']) for fname in fnames])\n",
    "    idste_tot.append(idste)\n",
    "    \n",
    "    # apply preprocessing on test data\n",
    "    feat = np.dot(csp.filters_[0:nfilters],raw._data[picks])**2\n",
    "    ####### parallel version ###########\n",
    "    #featte = np.array(Parallel(n_jobs=-1)(delayed(convolve)(feat[i],boxcar(nwin),'full') for i in range(nfilters)))\n",
    "    #featte = np.log(featte[:,0:feat.shape[1]])\n",
    "    #######\n",
    "    featte = np.empty(feat.shape)\n",
    "    for i in range(nfilters):\n",
    "        featte[i] = np.log(convolve(feat[i],boxcar(nwin),'full'))[0:feat.shape[1]]\n",
    "        \n",
    "    ######### Data Frames of test data to write csv ########################\n",
    "    testX_tot.append(featte.T)\n",
    "    \n",
    "    ################ Train classifiers ########################################\n",
    "    #lr = LogisticRegression()\n",
    "    #pred = np.empty((len(ids),6))\n",
    "    #for i in range(6):\n",
    "    #    print('Train subject %d, class %s' % (subject, cols[i]))\n",
    "    #    lr.fit(feattr[:,::subsample].T,labels[i,::subsample])\n",
    "    #    pred[:,i] = lr.predict_proba(featte.T)[:,1]\n",
    "    \n",
    "    #pred_tot.append(pred)\n",
    "    trainX = pd.DataFrame(np.concatenate(trainX_tot),np.concatenate(idstr_tot),columns = ['F1','F2','F3','F4'])\n",
    "    trainY = pd.DataFrame(np.concatenate(trainY_tot),np.concatenate(idstr_tot),columns=cols)\n",
    "    testX = pd.DataFrame(np.concatenate(testX_tot),np.concatenate(idste_tot),columns = ['F1','F2','F3','F4'])\n",
    "    train = trainX.join(trainY)\n",
    "    #for i in range(1,9):\n",
    "    #    subsetX = trainX[trainX.index.to_series().str.contains('series'+str(i))]\n",
    "    #    subsetX.to_csv('csp_train/subj'+str(subject)+'_series'+str(i)+'_data.csv')\n",
    "    #    subsetY = trainY[trainY.index.to_series().str.contains('series'+str(i))]\n",
    "    #    subsetY.to_csv('csp_train/subj'+str(subject)+'_series'+str(i)+'_events.csv')\n",
    "    #for i in range(9,11):\n",
    "    #    subsetTe = testX[testX.index.to_series().str.contains('series'+str(i))]\n",
    "    #    subsetTe.to_csv('csp_test/subj'+str(subject)+'_series'+str(i)+'_data.csv')\n",
    "    train.to_csv('Rcsp_train_subj'+str(subject)+'.csv',index_label='id',float_format='%.5f') \n",
    "    testX.to_csv('Rcsp_test_subj'+str(subject)+'.csv',index_label='id',float_format='%.5f') \n",
    "\n",
    "# create pandas object for train data\n",
    "#submission = pd.DataFrame(index=np.concatenate(idste_tot),\n",
    "#                          columns=cols,\n",
    "#                          data=np.concatenate(pred_tot))\n",
    "\n",
    "# write file\n",
    "#submission.to_csv(submission_file,index_label='id',float_format='%.5f')        "
   ]
  },
  {
   "cell_type": "code",
   "execution_count": 3,
   "metadata": {
    "collapsed": false
   },
   "outputs": [],
   "source": [
    "# writing csv's after all data from each subject collected\n",
    "trainY = pd.DataFrame(np.concatenate(trainY_tot),np.concatenate(idstr_tot),columns=cols)\n",
    "trainX = pd.DataFrame(np.concatenate(trainX_tot),np.concatenate(idstr_tot),columns = ['F1','F2','F3','F4'])\n",
    "train = trainX.join(trainY)\n",
    "train.to_csv('csp_train.csv',index_label='id',float_format='%.5f') \n",
    "testX = pd.DataFrame(np.concatenate(testX_tot),np.concatenate(idste_tot),columns = ['F1','F2','F3','F4'])\n",
    "testX.to_csv('csp_testX.csv',index_label='id',float_format='%.5f') "
   ]
  },
  {
   "cell_type": "code",
   "execution_count": 40,
   "metadata": {
    "collapsed": false
   },
   "outputs": [
    {
     "data": {
      "text/plain": [
       "3144171"
      ]
     },
     "execution_count": 40,
     "metadata": {},
     "output_type": "execute_result"
    }
   ],
   "source": [
    "len(testX)"
   ]
  },
  {
   "cell_type": "code",
   "execution_count": 9,
   "metadata": {
    "collapsed": false
   },
   "outputs": [],
   "source": [
    "csp_accompanied = train[train.iloc[:,4:10].sum(axis=1)>1]"
   ]
  },
  {
   "cell_type": "code",
   "execution_count": 12,
   "metadata": {
    "collapsed": false
   },
   "outputs": [],
   "source": [
    "csp_accompanied.to_csv('csp_accompanied.csv',float_format = '%.5f')"
   ]
  },
  {
   "cell_type": "code",
   "execution_count": 14,
   "metadata": {
    "collapsed": false
   },
   "outputs": [
    {
     "data": {
      "text/plain": [
       "(17506815, 10)"
      ]
     },
     "execution_count": 14,
     "metadata": {},
     "output_type": "execute_result"
    }
   ],
   "source": [
    "csp_solo = train[train.iloc[:,4:10].sum(axis=1)<2]\n",
    "csp_solo.shape"
   ]
  },
  {
   "cell_type": "code",
   "execution_count": 15,
   "metadata": {
    "collapsed": true
   },
   "outputs": [],
   "source": [
    "csp_solo.to_csv('csp_solo.csv',float_format = '%.5f')"
   ]
  },
  {
   "cell_type": "code",
   "execution_count": 36,
   "metadata": {
    "collapsed": false
   },
   "outputs": [],
   "source": [
    "%matplotlib inline\n",
    "import matplotlib.pyplot as plt\n",
    "import seaborn as sns"
   ]
  },
  {
   "cell_type": "code",
   "execution_count": 44,
   "metadata": {
    "collapsed": false
   },
   "outputs": [
    {
     "data": {
      "image/png": "[encoded data removed]",
      "text/plain": [
       "<matplotlib.figure.Figure at 0x116d988d0>"
      ]
     },
     "metadata": {},
     "output_type": "display_data"
    }
   ],
   "source": [
    "#pal = dict(0=\"seagreen\", 1=\"gray\")\n",
    "g = sns.FacetGrid(train, hue=\"HandStart\", size=5)\n",
    "g.map(plt.scatter, \"F1\", \"F2\", s=50, alpha=.3, linewidth=.5, edgecolor=\"white\")\n",
    "g.add_legend();"
   ]
  },
  {
   "cell_type": "code",
   "execution_count": 25,
   "metadata": {
    "collapsed": false
   },
   "outputs": [
    {
     "data": {
      "text/plain": [
       "[<matplotlib.lines.Line2D at 0x165ec6d90>]"
      ]
     },
     "execution_count": 25,
     "metadata": {},
     "output_type": "execute_result"
    },
    {
     "data": {
      "image/png": "[encoded data removed]",
      "text/plain": [
       "<matplotlib.figure.Figure at 0x122932310>"
      ]
     },
     "metadata": {},
     "output_type": "display_data"
    }
   ],
   "source": [
    "plt.plot(train['F2'])\n",
    "plt.plot(train['F3'])"
   ]
  },
  {
   "cell_type": "code",
   "execution_count": 26,
   "metadata": {
    "collapsed": false
   },
   "outputs": [
    {
     "data": {
      "text/plain": [
       "[<matplotlib.lines.Line2D at 0x1804e1e10>]"
      ]
     },
     "execution_count": 26,
     "metadata": {},
     "output_type": "execute_result"
    },
    {
     "data": {
      "image/png": "[encoded data removed]",
      "text/plain": [
       "<matplotlib.figure.Figure at 0x165d9f490>"
      ]
     },
     "metadata": {},
     "output_type": "display_data"
    }
   ],
   "source": [
    "plt.plot(train['F3'])\n",
    "plt.plot(train['F4'])"
   ]
  },
  {
   "cell_type": "code",
   "execution_count": 5,
   "metadata": {
    "collapsed": false
   },
   "outputs": [
    {
     "data": {
      "text/plain": [
       "287869"
      ]
     },
     "execution_count": 5,
     "metadata": {},
     "output_type": "execute_result"
    }
   ],
   "source": [
    "len(test_raw)"
   ]
  },
  {
   "cell_type": "code",
   "execution_count": 6,
   "metadata": {
    "collapsed": false
   },
   "outputs": [
    {
     "name": "stdout",
     "output_type": "stream",
     "text": [
      "[1, 2, 3, 4, 5, 6, 7, 8, 9, 10, 11, 12]\n"
     ]
    }
   ],
   "source": [
    "print subjects"
   ]
  },
  {
   "cell_type": "code",
   "execution_count": 9,
   "metadata": {
    "collapsed": false
   },
   "outputs": [
    {
     "data": {
      "text/plain": [
       "(4, 1422392)"
      ]
     },
     "execution_count": 9,
     "metadata": {},
     "output_type": "execute_result"
    }
   ],
   "source": [
    "feat.shape"
   ]
  },
  {
   "cell_type": "code",
   "execution_count": null,
   "metadata": {
    "collapsed": true
   },
   "outputs": [],
   "source": []
  }
 ],
 "metadata": {
  "kernelspec": {
   "display_name": "Python 2",
   "language": "python",
   "name": "python2"
  },
  "language_info": {
   "codemirror_mode": {
    "name": "ipython",
    "version": 2
   },
   "file_extension": ".py",
   "mimetype": "text/x-python",
   "name": "python",
   "nbconvert_exporter": "python",
   "pygments_lexer": "ipython2",
   "version": "2.7.10"
  }
 },
 "nbformat": 4,
 "nbformat_minor": 0
}
